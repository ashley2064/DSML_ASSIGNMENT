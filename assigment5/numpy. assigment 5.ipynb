{
 "cells": [
  {
   "cell_type": "code",
   "execution_count": 1,
   "id": "2339f719-b22b-4d48-a8fb-bfb7f2987733",
   "metadata": {},
   "outputs": [],
   "source": [
    "import numpy as np\n"
   ]
  },
  {
   "cell_type": "markdown",
   "id": "b3d0070f-741e-463d-a8bb-621f039843c7",
   "metadata": {},
   "source": [
    "# 1. 1D, 2D, 3D arrays"
   ]
  },
  {
   "cell_type": "code",
   "execution_count": 3,
   "id": "8f7fe4ac-9c9e-49e9-ad6b-1eb1aef671d0",
   "metadata": {},
   "outputs": [],
   "source": [
    "a1 = np.array([1, 2, 3])\n",
    "a2 = np.array([[1, 2], [3, 4]])\n",
    "a3 = np.array([[[1], [2]], [[3], [4]]])\n"
   ]
  },
  {
   "cell_type": "code",
   "execution_count": 10,
   "id": "7c834271-406a-45d2-8c45-93ef2356ad06",
   "metadata": {},
   "outputs": [
    {
     "data": {
      "text/plain": [
       "(array([1, 2, 3]),\n",
       " array([[1, 2],\n",
       "        [3, 4]]),\n",
       " array([[[1],\n",
       "         [2]],\n",
       " \n",
       "        [[3],\n",
       "         [4]]]))"
      ]
     },
     "execution_count": 10,
     "metadata": {},
     "output_type": "execute_result"
    }
   ],
   "source": [
    "a1, a2, a3"
   ]
  },
  {
   "cell_type": "markdown",
   "id": "aa6db814-5587-4722-9475-5cd76ce06124",
   "metadata": {},
   "source": [
    "# 2. Arrays of zeros, ones, fives\n"
   ]
  },
  {
   "cell_type": "code",
   "execution_count": 11,
   "id": "69e40d11-d2b8-4035-96f6-903faee9d847",
   "metadata": {},
   "outputs": [
    {
     "data": {
      "text/plain": [
       "(array([0., 0., 0., 0., 0., 0., 0., 0., 0., 0.]),\n",
       " array([1., 1., 1., 1., 1., 1., 1., 1., 1., 1.]),\n",
       " array([5, 5, 5, 5, 5, 5, 5, 5, 5, 5]))"
      ]
     },
     "execution_count": 11,
     "metadata": {},
     "output_type": "execute_result"
    }
   ],
   "source": [
    "\n",
    "zeros = np.zeros(10)\n",
    "ones = np.ones(10)\n",
    "fives = np.full(10, 5)\n",
    "zeros, ones, fives"
   ]
  },
  {
   "cell_type": "markdown",
   "id": "9072e98d-6fbf-4457-ab87-00ae1446e21c",
   "metadata": {},
   "source": [
    "# 3. Integers from 10 to 50\n"
   ]
  },
  {
   "cell_type": "code",
   "execution_count": 12,
   "id": "755c33c4-7685-41de-a0c8-42eed952e41a",
   "metadata": {},
   "outputs": [
    {
     "data": {
      "text/plain": [
       "array([10, 11, 12, 13, 14, 15, 16, 17, 18, 19, 20, 21, 22, 23, 24, 25, 26,\n",
       "       27, 28, 29, 30, 31, 32, 33, 34, 35, 36, 37, 38, 39, 40, 41, 42, 43,\n",
       "       44, 45, 46, 47, 48, 49, 50])"
      ]
     },
     "execution_count": 12,
     "metadata": {},
     "output_type": "execute_result"
    }
   ],
   "source": [
    "arr_10_50 = np.arange(10, 51)\n",
    "arr_10_50"
   ]
  },
  {
   "cell_type": "markdown",
   "id": "5086f930-7014-438f-b2f5-914f36068700",
   "metadata": {},
   "source": [
    "# 4. 20 evenly spaced values from 1 to 10\n"
   ]
  },
  {
   "cell_type": "code",
   "execution_count": 13,
   "id": "ed0ca63a-70fe-43a4-a3fa-90efa26641f2",
   "metadata": {},
   "outputs": [
    {
     "data": {
      "text/plain": [
       "array([ 1.        ,  1.47368421,  1.94736842,  2.42105263,  2.89473684,\n",
       "        3.36842105,  3.84210526,  4.31578947,  4.78947368,  5.26315789,\n",
       "        5.73684211,  6.21052632,  6.68421053,  7.15789474,  7.63157895,\n",
       "        8.10526316,  8.57894737,  9.05263158,  9.52631579, 10.        ])"
      ]
     },
     "execution_count": 13,
     "metadata": {},
     "output_type": "execute_result"
    }
   ],
   "source": [
    "even_20 = np.linspace(1, 10, 20)\n",
    "even_20"
   ]
  },
  {
   "cell_type": "markdown",
   "id": "4c99a3a5-739a-4030-82e2-bb6c917faa6c",
   "metadata": {},
   "source": [
    "# 5. 3x3 Identity matrix\n"
   ]
  },
  {
   "cell_type": "code",
   "execution_count": 15,
   "id": "31853290-cc56-4cae-8cb3-cb3ff406c72c",
   "metadata": {},
   "outputs": [
    {
     "data": {
      "text/plain": [
       "array([[1., 0., 0.],\n",
       "       [0., 1., 0.],\n",
       "       [0., 0., 1.]])"
      ]
     },
     "execution_count": 15,
     "metadata": {},
     "output_type": "execute_result"
    }
   ],
   "source": [
    "identity = np.eye(3)\n",
    "identity"
   ]
  },
  {
   "cell_type": "markdown",
   "id": "a4d59591-4ccd-4a5c-a5d2-613fc5488955",
   "metadata": {},
   "source": [
    "# 6. 5x5 matrix from 1 to 25\n"
   ]
  },
  {
   "cell_type": "code",
   "execution_count": 17,
   "id": "9bf0d1dd-7b0a-4f82-a712-2034910de669",
   "metadata": {},
   "outputs": [
    {
     "data": {
      "text/plain": [
       "array([[ 1,  2,  3,  4,  5],\n",
       "       [ 6,  7,  8,  9, 10],\n",
       "       [11, 12, 13, 14, 15],\n",
       "       [16, 17, 18, 19, 20],\n",
       "       [21, 22, 23, 24, 25]])"
      ]
     },
     "execution_count": 17,
     "metadata": {},
     "output_type": "execute_result"
    }
   ],
   "source": [
    "matrix_5x5 = np.arange(1, 26).reshape(5, 5)\n",
    "matrix_5x5"
   ]
  },
  {
   "cell_type": "markdown",
   "id": "11e787b4-1b2c-4525-a28a-1bb47b56a3cd",
   "metadata": {},
   "source": [
    "# 7. Shape, size, dtype of array"
   ]
  },
  {
   "cell_type": "code",
   "execution_count": 19,
   "id": "cba073d0-3871-4a3d-b1c8-2a387eab35a0",
   "metadata": {},
   "outputs": [
    {
     "name": "stdout",
     "output_type": "stream",
     "text": [
      "Shape: (5, 5)\n",
      "Size: 25\n",
      "Dtype: int64\n"
     ]
    }
   ],
   "source": [
    "print(\"Shape:\", matrix_5x5.shape)\n",
    "print(\"Size:\", matrix_5x5.size)\n",
    "print(\"Dtype:\", matrix_5x5.dtype)\n"
   ]
  },
  {
   "cell_type": "markdown",
   "id": "3fdca552-c5a2-4639-a58c-d495d080e557",
   "metadata": {},
   "source": [
    "# 8. Access 3rd row, 2nd column\n"
   ]
  },
  {
   "cell_type": "code",
   "execution_count": 21,
   "id": "8d5af68f-bcb7-4635-9252-814dbe908d56",
   "metadata": {},
   "outputs": [],
   "source": [
    "\n",
    "arr = np.arange(1, 26).reshape(5, 5)\n",
    "\n"
   ]
  },
  {
   "cell_type": "code",
   "execution_count": 26,
   "id": "19f63b1d-cf09-45fa-b929-6afbbb28d4fc",
   "metadata": {},
   "outputs": [
    {
     "data": {
      "text/plain": [
       "np.int64(12)"
      ]
     },
     "execution_count": 26,
     "metadata": {},
     "output_type": "execute_result"
    }
   ],
   "source": [
    "val = arr[2, 1]  # row index 2, column index 1\n",
    "val\n"
   ]
  },
  {
   "cell_type": "markdown",
   "id": "b74510d1-bbf9-40fb-a80d-0846491f45f7",
   "metadata": {},
   "source": [
    "# 9. Reverse array\n"
   ]
  },
  {
   "cell_type": "code",
   "execution_count": 29,
   "id": "19ac1e32-6b3e-4853-975c-328e13ae9094",
   "metadata": {},
   "outputs": [
    {
     "data": {
      "text/plain": [
       "(array([[21, 22, 23, 24, 25],\n",
       "        [16, 17, 18, 19, 20],\n",
       "        [11, 12, 13, 14, 15],\n",
       "        [ 6,  7,  8,  9, 10],\n",
       "        [ 1,  2,  3,  4,  5]]),\n",
       " array([[ 5,  4,  3,  2,  1],\n",
       "        [10,  9,  8,  7,  6],\n",
       "        [15, 14, 13, 12, 11],\n",
       "        [20, 19, 18, 17, 16],\n",
       "        [25, 24, 23, 22, 21]]))"
      ]
     },
     "execution_count": 29,
     "metadata": {},
     "output_type": "execute_result"
    }
   ],
   "source": [
    "row_reversed = arr[::-1]\n",
    "col_reversed = arr[:, ::-1]\n",
    "row_reversed, col_reversed"
   ]
  },
  {
   "cell_type": "markdown",
   "id": "a26f6d8d-7435-4ab0-9394-ea811a0fc4ad",
   "metadata": {},
   "source": [
    "# 10. Select every second elemen"
   ]
  },
  {
   "cell_type": "code",
   "execution_count": 31,
   "id": "5f6cd4c9-a698-45bd-95fa-116f979d06fa",
   "metadata": {},
   "outputs": [
    {
     "data": {
      "text/plain": [
       "array([10, 30, 50])"
      ]
     },
     "execution_count": 31,
     "metadata": {},
     "output_type": "execute_result"
    }
   ],
   "source": [
    "arr1d = np.array([10, 20, 30, 40, 50, 60])\n",
    "arr1d[::2]\n"
   ]
  },
  {
   "cell_type": "markdown",
   "id": "bba878c3-1d16-4219-962d-5c5222a0fa98",
   "metadata": {},
   "source": [
    "# 11. Change value at specific index"
   ]
  },
  {
   "cell_type": "code",
   "execution_count": 32,
   "id": "d0c13b0e-4b95-4765-99ab-bc4f965dd921",
   "metadata": {},
   "outputs": [
    {
     "data": {
      "text/plain": [
       "array([10, 20, 99, 40, 50, 60])"
      ]
     },
     "execution_count": 32,
     "metadata": {},
     "output_type": "execute_result"
    }
   ],
   "source": [
    "arr1d[2] = 99\n",
    "arr1d"
   ]
  },
  {
   "cell_type": "markdown",
   "id": "b4891cf8-8e56-4c5a-a24e-f5c8e05e23e5",
   "metadata": {},
   "source": [
    "# 12. Extract submatrix"
   ]
  },
  {
   "cell_type": "code",
   "execution_count": 33,
   "id": "35766527-cbd4-4966-876c-bbdbb9ff5ff8",
   "metadata": {},
   "outputs": [
    {
     "data": {
      "text/plain": [
       "array([[1, 2],\n",
       "       [6, 7]])"
      ]
     },
     "execution_count": 33,
     "metadata": {},
     "output_type": "execute_result"
    }
   ],
   "source": [
    "submatrix = arr[0:2, 0:2]\n",
    "submatrix\n"
   ]
  },
  {
   "cell_type": "code",
   "execution_count": 34,
   "id": "62dd5142-0e7a-4faa-b6e4-e717097ac8da",
   "metadata": {},
   "outputs": [],
   "source": [
    "a = np.array([10, 20, 30])\n",
    "b = np.array([1, 2, 3])\n",
    "\n"
   ]
  },
  {
   "cell_type": "markdown",
   "id": "cc8aeaaf-763a-4ed4-a6b2-6492765d71b0",
   "metadata": {},
   "source": [
    "# 13. Add, subtract, multiply, divide\n"
   ]
  },
  {
   "cell_type": "code",
   "execution_count": 35,
   "id": "7c5ea882-4217-472d-adc0-8bc6761d5e3d",
   "metadata": {},
   "outputs": [
    {
     "data": {
      "text/plain": [
       "array([11, 22, 33])"
      ]
     },
     "execution_count": 35,
     "metadata": {},
     "output_type": "execute_result"
    }
   ],
   "source": [
    "a+b"
   ]
  },
  {
   "cell_type": "code",
   "execution_count": 36,
   "id": "d90b0abf-177c-4e45-9811-1b1fb403f3fe",
   "metadata": {},
   "outputs": [
    {
     "data": {
      "text/plain": [
       "array([ 9, 18, 27])"
      ]
     },
     "execution_count": 36,
     "metadata": {},
     "output_type": "execute_result"
    }
   ],
   "source": [
    "a-b"
   ]
  },
  {
   "cell_type": "code",
   "execution_count": 37,
   "id": "eb8fe108-6dcc-4f16-ba3e-8f16c08141b1",
   "metadata": {},
   "outputs": [
    {
     "data": {
      "text/plain": [
       "array([10, 40, 90])"
      ]
     },
     "execution_count": 37,
     "metadata": {},
     "output_type": "execute_result"
    }
   ],
   "source": [
    "a*b"
   ]
  },
  {
   "cell_type": "code",
   "execution_count": 38,
   "id": "a3682ed7-a9cb-414a-b4ff-ad03adebfc51",
   "metadata": {},
   "outputs": [
    {
     "data": {
      "text/plain": [
       "array([10., 10., 10.])"
      ]
     },
     "execution_count": 38,
     "metadata": {},
     "output_type": "execute_result"
    }
   ],
   "source": [
    "a/b"
   ]
  },
  {
   "cell_type": "markdown",
   "id": "04177b1a-cd85-45b0-92e4-d412bf96cb8d",
   "metadata": {},
   "source": [
    "# 14. Square every element\n"
   ]
  },
  {
   "cell_type": "code",
   "execution_count": 39,
   "id": "e34b923e-f8d0-4537-bc19-c5016a7add58",
   "metadata": {},
   "outputs": [
    {
     "data": {
      "text/plain": [
       "array([100, 400, 900])"
      ]
     },
     "execution_count": 39,
     "metadata": {},
     "output_type": "execute_result"
    }
   ],
   "source": [
    "a ** 2"
   ]
  },
  {
   "cell_type": "markdown",
   "id": "ad68a3c4-a5be-436c-a230-5b66f19a372f",
   "metadata": {},
   "source": [
    "# 15. Max, Min, Mean\n"
   ]
  },
  {
   "cell_type": "code",
   "execution_count": 42,
   "id": "14e7bc03-f108-48f6-9631-eaa72e3a4a3e",
   "metadata": {},
   "outputs": [
    {
     "data": {
      "text/plain": [
       "np.int64(10)"
      ]
     },
     "execution_count": 42,
     "metadata": {},
     "output_type": "execute_result"
    }
   ],
   "source": [
    "a.min()\n"
   ]
  },
  {
   "cell_type": "code",
   "execution_count": 43,
   "id": "2d1ac9b3-6102-47dd-87fb-a13857a58b84",
   "metadata": {},
   "outputs": [
    {
     "data": {
      "text/plain": [
       "np.int64(30)"
      ]
     },
     "execution_count": 43,
     "metadata": {},
     "output_type": "execute_result"
    }
   ],
   "source": [
    "a.max()"
   ]
  },
  {
   "cell_type": "code",
   "execution_count": 44,
   "id": "4899f889-62da-417d-96e4-062a01c46590",
   "metadata": {},
   "outputs": [
    {
     "data": {
      "text/plain": [
       "np.float64(20.0)"
      ]
     },
     "execution_count": 44,
     "metadata": {},
     "output_type": "execute_result"
    }
   ],
   "source": [
    "a.mean()"
   ]
  },
  {
   "cell_type": "markdown",
   "id": "557bd8b1-2588-40fa-9339-901842381eec",
   "metadata": {},
   "source": [
    "# 16. Standard Deviation\n"
   ]
  },
  {
   "cell_type": "code",
   "execution_count": 45,
   "id": "4e386124-2bf5-4997-afb8-f2f7a0068039",
   "metadata": {},
   "outputs": [
    {
     "data": {
      "text/plain": [
       "np.float64(8.16496580927726)"
      ]
     },
     "execution_count": 45,
     "metadata": {},
     "output_type": "execute_result"
    }
   ],
   "source": [
    "a.std()"
   ]
  },
  {
   "cell_type": "markdown",
   "id": "e2011922-1776-4d77-b4cf-5693584fb354",
   "metadata": {},
   "source": [
    "# 17. Sort\n"
   ]
  },
  {
   "cell_type": "code",
   "execution_count": 53,
   "id": "f0996901-ffd4-4abf-929a-ed0d2345dfab",
   "metadata": {},
   "outputs": [],
   "source": [
    "unsorted = np.array([3, 1, 4, 2])\n"
   ]
  },
  {
   "cell_type": "code",
   "execution_count": 54,
   "id": "2b556918-c0e6-4f35-8060-5e8fd54b01ea",
   "metadata": {},
   "outputs": [
    {
     "data": {
      "text/plain": [
       "array([1, 2, 3, 4])"
      ]
     },
     "execution_count": 54,
     "metadata": {},
     "output_type": "execute_result"
    }
   ],
   "source": [
    "np.sort(unsorted)\n",
    "\n"
   ]
  },
  {
   "cell_type": "markdown",
   "id": "f71c5e6f-f8fb-4085-aabd-a2dfb12ac978",
   "metadata": {},
   "source": [
    "# 18. Clip values between 5 and 25\n"
   ]
  },
  {
   "cell_type": "code",
   "execution_count": 55,
   "id": "a99d58dc-fd93-4194-90dc-a878f18e0b93",
   "metadata": {},
   "outputs": [
    {
     "data": {
      "text/plain": [
       "array([10, 20, 25])"
      ]
     },
     "execution_count": 55,
     "metadata": {},
     "output_type": "execute_result"
    }
   ],
   "source": [
    "np.clip(a, 5, 25)\n"
   ]
  },
  {
   "cell_type": "markdown",
   "id": "fb66fb0a-f394-4c5d-a07c-9bd3ab346235",
   "metadata": {},
   "source": [
    "# .."
   ]
  },
  {
   "cell_type": "code",
   "execution_count": 59,
   "id": "975464f2-5a7e-47d2-b194-07934d3ae9c4",
   "metadata": {},
   "outputs": [],
   "source": [
    "arr = np.array([10, 55, 23, 78, 0, 3, 66, 91])\n"
   ]
  },
  {
   "cell_type": "markdown",
   "id": "79e86b25-f49c-45e4-90fb-dcd855e6f4b1",
   "metadata": {},
   "source": [
    "# 19. Get all elements > 50\n"
   ]
  },
  {
   "cell_type": "code",
   "execution_count": 61,
   "id": "b447abfb-7d12-41a4-b865-879f1217a5b9",
   "metadata": {},
   "outputs": [
    {
     "data": {
      "text/plain": [
       "array([55, 78, 66, 91])"
      ]
     },
     "execution_count": 61,
     "metadata": {},
     "output_type": "execute_result"
    }
   ],
   "source": [
    "greater_than_50 = arr[arr > 50]\n",
    "greater_than_50\n"
   ]
  },
  {
   "cell_type": "markdown",
   "id": "7b6a5bad-ff44-4dd7-89b5-98a65fc39a29",
   "metadata": {},
   "source": [
    "# 20. Replace all odd numbers with -1\n"
   ]
  },
  {
   "cell_type": "code",
   "execution_count": 62,
   "id": "9811fd9f-67ca-4d91-8882-787860bf4ff9",
   "metadata": {},
   "outputs": [
    {
     "data": {
      "text/plain": [
       "array([10, -1, -1, 78,  0, -1, 66, -1])"
      ]
     },
     "execution_count": 62,
     "metadata": {},
     "output_type": "execute_result"
    }
   ],
   "source": [
    "arr_odd_replaced = np.copy(arr)\n",
    "arr_odd_replaced[arr_odd_replaced % 2 != 0] = -1\n",
    "arr_odd_replaced\n",
    "\n"
   ]
  },
  {
   "cell_type": "markdown",
   "id": "e4ab620a-b109-4a96-a203-e1a39bdf9ca3",
   "metadata": {},
   "source": [
    "# 21. Count elements divisible by 3\n",
    "\n"
   ]
  },
  {
   "cell_type": "code",
   "execution_count": 73,
   "id": "00f21a88-06b5-4be3-a204-11540ee78739",
   "metadata": {},
   "outputs": [
    {
     "data": {
      "text/plain": [
       "np.int64(4)"
      ]
     },
     "execution_count": 73,
     "metadata": {},
     "output_type": "execute_result"
    }
   ],
   "source": [
    "count_div_3 = np.sum(arr % 3 == 0)\n",
    "count_div_3\n",
    "\n"
   ]
  },
  {
   "cell_type": "markdown",
   "id": "35282347-a7a8-454f-90f4-81365119f3ba",
   "metadata": {},
   "source": [
    "# 22. Indices of non-zero elements\n",
    "\n"
   ]
  },
  {
   "cell_type": "code",
   "execution_count": 74,
   "id": "b7498e7e-b26d-49b6-8139-6e6c7e8c8f21",
   "metadata": {},
   "outputs": [
    {
     "data": {
      "text/plain": [
       "array([0, 1, 2, 3, 5, 6, 7])"
      ]
     },
     "execution_count": 74,
     "metadata": {},
     "output_type": "execute_result"
    }
   ],
   "source": [
    "indices_nonzero = np.nonzero(arr)\n",
    "indices_nonzero[0]\n"
   ]
  },
  {
   "cell_type": "markdown",
   "id": "b226e017-f2ea-49fd-8d9b-791e0a13d8be",
   "metadata": {},
   "source": [
    "# 23. Create a random 3x3 matrix\n"
   ]
  },
  {
   "cell_type": "code",
   "execution_count": 75,
   "id": "0366b172-5f1b-4f29-b4a2-5884be81690e",
   "metadata": {},
   "outputs": [
    {
     "data": {
      "text/plain": [
       "array([[0.94806212, 0.91239655, 0.63135638],\n",
       "       [0.63133527, 0.85288568, 0.26719638],\n",
       "       [0.5681907 , 0.19229435, 0.25434146]])"
      ]
     },
     "execution_count": 75,
     "metadata": {},
     "output_type": "execute_result"
    }
   ],
   "source": [
    "random_matrix = np.random.rand(3, 3)\n",
    "random_matrix\n"
   ]
  },
  {
   "cell_type": "markdown",
   "id": "4733b365-c256-4710-b2d9-5c5a3480f151",
   "metadata": {},
   "source": [
    "# 24. Transpose a matrix\n"
   ]
  },
  {
   "cell_type": "markdown",
   "id": "66dc8856-7913-4e94-b92f-a25d0b20efa5",
   "metadata": {},
   "source": [
    "transposed = random_matrix.T\n",
    "transposed"
   ]
  },
  {
   "cell_type": "markdown",
   "id": "6c812902-d209-4ecc-b31a-0959501a86ba",
   "metadata": {},
   "source": [
    "# 25. Multiply two matrices (dot product)\n"
   ]
  },
  {
   "cell_type": "code",
   "execution_count": 77,
   "id": "0e9bdddd-bd51-49cc-9217-b028c00570f9",
   "metadata": {},
   "outputs": [
    {
     "data": {
      "text/plain": [
       "array([[19, 22],\n",
       "       [43, 50]])"
      ]
     },
     "execution_count": 77,
     "metadata": {},
     "output_type": "execute_result"
    }
   ],
   "source": [
    "matrix_a = np.array([[1, 2], [3, 4]])\n",
    "matrix_b = np.array([[5, 6], [7, 8]])\n",
    "dot_product = np.dot(matrix_a, matrix_b)\n",
    "dot_product\n"
   ]
  },
  {
   "cell_type": "markdown",
   "id": "15ab600f-5d74-4429-b05d-c765f5b132bd",
   "metadata": {},
   "source": [
    "# 26. Check if two arrays are equal\n"
   ]
  },
  {
   "cell_type": "code",
   "execution_count": 78,
   "id": "24d8edeb-771e-4abd-a8ee-6fc0e56b6b97",
   "metadata": {},
   "outputs": [
    {
     "data": {
      "text/plain": [
       "True"
      ]
     },
     "execution_count": 78,
     "metadata": {},
     "output_type": "execute_result"
    }
   ],
   "source": [
    "array1 = np.array([1, 2, 3])\n",
    "array2 = np.array([1, 2, 3])\n",
    "are_equal = np.array_equal(array1, array2)\n",
    "are_equal\n"
   ]
  },
  {
   "cell_type": "markdown",
   "id": "d47bb9d3-49a0-4a73-928e-001b3ef9c243",
   "metadata": {},
   "source": [
    "# 27. Flatten a 2D array to 1D\n"
   ]
  },
  {
   "cell_type": "code",
   "execution_count": 82,
   "id": "d3c736ff-355a-47b6-ae07-cad1000bd378",
   "metadata": {},
   "outputs": [
    {
     "data": {
      "text/plain": [
       "array([1, 2, 3, 4])"
      ]
     },
     "execution_count": 82,
     "metadata": {},
     "output_type": "execute_result"
    }
   ],
   "source": [
    "flat_array = matrix_a.flatten()\n",
    "flat_array"
   ]
  },
  {
   "cell_type": "markdown",
   "id": "55aa0a86-9999-4c51-9059-49cfc4151401",
   "metadata": {},
   "source": [
    "# 28. Generate random numbers\n"
   ]
  },
  {
   "cell_type": "code",
   "execution_count": 84,
   "id": "0ca73a27-c9ef-4342-9995-6d1b4376595d",
   "metadata": {},
   "outputs": [
    {
     "data": {
      "text/plain": [
       "array([0.04049196, 0.79824901, 0.98244635, 0.23070988, 0.41676488])"
      ]
     },
     "execution_count": 84,
     "metadata": {},
     "output_type": "execute_result"
    }
   ],
   "source": [
    "rand_float = np.random.rand(5)\n",
    "rand_float"
   ]
  },
  {
   "cell_type": "code",
   "execution_count": 86,
   "id": "f7830ac1-6476-4a90-a9c4-99dfe47d40c4",
   "metadata": {},
   "outputs": [
    {
     "data": {
      "text/plain": [
       "array([3, 9, 4, 7, 1])"
      ]
     },
     "execution_count": 86,
     "metadata": {},
     "output_type": "execute_result"
    }
   ],
   "source": [
    "rand_int = np.random.randint(1, 10, 5)  \n",
    "\n",
    "rand_int\n"
   ]
  },
  {
   "cell_type": "markdown",
   "id": "2c994713-d211-42c2-abbd-eb2db82dcd11",
   "metadata": {},
   "source": [
    "# 29. Set seed for reproducibilit"
   ]
  },
  {
   "cell_type": "code",
   "execution_count": 87,
   "id": "e6edbdde-46fa-41a5-b0db-37c112c6a270",
   "metadata": {},
   "outputs": [
    {
     "data": {
      "text/plain": [
       "array([0.37454012, 0.95071431, 0.73199394])"
      ]
     },
     "execution_count": 87,
     "metadata": {},
     "output_type": "execute_result"
    }
   ],
   "source": [
    "np.random.seed(42)\n",
    "seeded_rand = np.random.rand(3)\n",
    "seeded_rand"
   ]
  },
  {
   "cell_type": "markdown",
   "id": "8f2d7fde-5580-4cff-8a17-6d676a86cef5",
   "metadata": {},
   "source": [
    "# 30. Find unique elements in an array\n"
   ]
  },
  {
   "cell_type": "code",
   "execution_count": 89,
   "id": "08bc7c26-4fe4-4402-a93f-8c317c769a90",
   "metadata": {},
   "outputs": [
    {
     "data": {
      "text/plain": [
       "array([1, 2, 3, 4, 5])"
      ]
     },
     "execution_count": 89,
     "metadata": {},
     "output_type": "execute_result"
    }
   ],
   "source": [
    "arr = np.array([1, 2, 2, 3, 4, 4, 5])\n",
    "unique_elements = np.unique(arr)\n",
    "unique_elements"
   ]
  },
  {
   "cell_type": "code",
   "execution_count": null,
   "id": "824e12c7-62a9-4538-abed-61bb4b10c6c1",
   "metadata": {},
   "outputs": [],
   "source": []
  }
 ],
 "metadata": {
  "kernelspec": {
   "display_name": "Python 3 (ipykernel)",
   "language": "python",
   "name": "python3"
  },
  "language_info": {
   "codemirror_mode": {
    "name": "ipython",
    "version": 3
   },
   "file_extension": ".py",
   "mimetype": "text/x-python",
   "name": "python",
   "nbconvert_exporter": "python",
   "pygments_lexer": "ipython3",
   "version": "3.9.6"
  }
 },
 "nbformat": 4,
 "nbformat_minor": 5
}
